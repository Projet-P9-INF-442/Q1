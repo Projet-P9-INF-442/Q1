{
 "cells": [
  {
   "cell_type": "markdown",
   "metadata": {},
   "source": [
    "# Question 1 du Projet"
   ]
  },
  {
   "cell_type": "code",
   "execution_count": 1,
   "metadata": {},
   "outputs": [],
   "source": [
    "import pandas as pd\n",
    "from sklearn import svm\n",
    "from sklearn import neighbors\n",
    "import sklearn\n",
    "from sklearn.linear_model import LogisticRegression\n",
    "from sklearn.metrics import confusion_matrix\n",
    "from sklearn.metrics import classification_report\n",
    "from sklearn.metrics import roc_curve, auc\n",
    "import time\n",
    "import matplotlib.pyplot as plt\n",
    "import numpy as np\n",
    "import warnings\n",
    "warnings.filterwarnings('ignore')"
   ]
  },
  {
   "cell_type": "markdown",
   "metadata": {},
   "source": [
    "# Lecture et modification des fichiers csv"
   ]
  },
  {
   "cell_type": "code",
   "execution_count": 2,
   "metadata": {},
   "outputs": [],
   "source": [
    "testA = pd.read_csv(r\"representation.testa.csv\"  ,  header=None)\n",
    "testB = pd.read_csv(r\"representation.testb.csv\"  ,  header=None)\n",
    "train = pd.read_csv(r\"representation.train.csv\"  ,  header=None)\n",
    "\n",
    "true_labels_a=pd.read_csv(r\"true_labels.testa.csv\"  ,  header=None)\n",
    "true_labels_b=pd.read_csv(r\"true_labels.testb.csv\"  ,  header=None)\n",
    "true_labels_train=pd.read_csv(r\"true_labels.train.csv\"  ,  header=None)"
   ]
  },
  {
   "cell_type": "code",
   "execution_count": 3,
   "metadata": {},
   "outputs": [],
   "source": [
    "## Modif des dataframes pour avoir 1 si c'est une personne et 0 sinon\n",
    "def modif_df(df):\n",
    "    dataframe=df\n",
    "    for k in range(len(dataframe)):\n",
    "        if dataframe[0][k]==\"I-PER\":\n",
    "            dataframe[0][k]=1\n",
    "        else:\n",
    "            dataframe[0][k]=0\n",
    "    return dataframe\n",
    "# complexité linéaire\n",
    "\n",
    "true_a=modif_df(true_labels_a)\n",
    "true_b=modif_df(true_labels_b)\n",
    "true_train=modif_df(true_labels_train)"
   ]
  },
  {
   "cell_type": "code",
   "execution_count": 4,
   "metadata": {},
   "outputs": [],
   "source": [
    "X_train , Y_train = train, list(true_train[0])\n",
    "X_test_a , Y_test_a = testA,list(true_a[0])\n",
    "X_test_b , Y_test_b = testB,list(true_b[0])"
   ]
  },
  {
   "cell_type": "markdown",
   "metadata": {},
   "source": [
    "### Quelques statistiques sur ces datasets :"
   ]
  },
  {
   "cell_type": "code",
   "execution_count": 5,
   "metadata": {},
   "outputs": [],
   "source": [
    "nb_train, dim = X_train.shape\n",
    "nb_test_a,nb_test_b=len(Y_test_a),len(Y_test_b)\n",
    "nb_noms_train=np.array(Y_train).sum()\n",
    "nb_noms_test_a=np.array(Y_test_a).sum()\n",
    "nb_noms_test_b=np.array(Y_test_b).sum()"
   ]
  },
  {
   "cell_type": "code",
   "execution_count": 6,
   "metadata": {},
   "outputs": [
    {
     "name": "stdout",
     "output_type": "stream",
     "text": [
      "Taille de l'échantillon d'entrainement : 10000\n",
      "Taille de l'échantillon de test : a : 2000  ,  b : 2000\n",
      "Nombre de noms propres dans le train :  547\n",
      "Nombre de noms propres dans les tests :  a : 129  ,  b : 130\n"
     ]
    }
   ],
   "source": [
    "print(\"Taille de l'échantillon d'entrainement :\", nb_train)\n",
    "print(\"Taille de l'échantillon de test :\", \"a :\",nb_test_a, \" ,  b :\",nb_test_b)\n",
    "print(\"Nombre de noms propres dans le train : \",nb_noms_train )\n",
    "print(\"Nombre de noms propres dans les tests : \",\"a :\",nb_noms_test_a, \" ,  b :\",nb_noms_test_b)"
   ]
  },
  {
   "cell_type": "markdown",
   "metadata": {},
   "source": [
    "# Comparaison de différents algorithmes de classification"
   ]
  },
  {
   "cell_type": "code",
   "execution_count": 7,
   "metadata": {},
   "outputs": [],
   "source": [
    "liste_classifieurs=[LogisticRegression(solver='lbfgs',random_state=0),\n",
    "                    sklearn.linear_model.RidgeClassifier(alpha=1.0, fit_intercept=True, random_state=0),\n",
    "                   svm.SVC(),\n",
    "                    neighbors.KNeighborsClassifier(n_neighbors=10),\n",
    "                   ]"
   ]
  },
  {
   "cell_type": "code",
   "execution_count": 8,
   "metadata": {},
   "outputs": [],
   "source": [
    "def compare_algo(liste_classifieurs,X_train,Y_train,X_test,Y_test):    \n",
    "    comparaison, temps_train, temps_inf, acc=[],[],[],[]\n",
    "    for clf in liste_classifieurs:\n",
    "        t1=time.time()\n",
    "        clf.fit(X_train , Y_train)\n",
    "        t2=time.time()\n",
    "        Y_pred=clf.predict(X_test)\n",
    "        report=classification_report(Y_test,Y_pred,output_dict=True,target_names=['classe 0', 'classe 1'])\n",
    "        t3=time.time()\n",
    "        acc.append(clf.score(X_test,Y_test))\n",
    "        temps_train.append(t2-t1)\n",
    "        temps_inf.append(t3-t2)\n",
    "        comparaison.append(pd.DataFrame(report)['classe 1'])\n",
    "    df_comparaison=pd.DataFrame(comparaison,index=['Regression Logistique','Regression Linéaire','SVM','KNN'])\n",
    "    df_comparaison['temps train (s)']=temps_train\n",
    "    df_comparaison['temps inference (s)']=temps_inf\n",
    "    df_comparaison['accuracy']=acc\n",
    "    return df_comparaison [['accuracy','precision','recall','f1-score','temps train (s)','temps inference (s)']]"
   ]
  },
  {
   "cell_type": "markdown",
   "metadata": {},
   "source": [
    "## Comparaison sur le test A :"
   ]
  },
  {
   "cell_type": "code",
   "execution_count": 17,
   "metadata": {},
   "outputs": [
    {
     "data": {
      "text/html": [
       "<div>\n",
       "<style scoped>\n",
       "    .dataframe tbody tr th:only-of-type {\n",
       "        vertical-align: middle;\n",
       "    }\n",
       "\n",
       "    .dataframe tbody tr th {\n",
       "        vertical-align: top;\n",
       "    }\n",
       "\n",
       "    .dataframe thead th {\n",
       "        text-align: right;\n",
       "    }\n",
       "</style>\n",
       "<table border=\"1\" class=\"dataframe\">\n",
       "  <thead>\n",
       "    <tr style=\"text-align: right;\">\n",
       "      <th></th>\n",
       "      <th>accuracy</th>\n",
       "      <th>precision</th>\n",
       "      <th>recall</th>\n",
       "      <th>f1-score</th>\n",
       "      <th>temps train (s)</th>\n",
       "      <th>temps inference (s)</th>\n",
       "    </tr>\n",
       "  </thead>\n",
       "  <tbody>\n",
       "    <tr>\n",
       "      <th>Regression Logistique</th>\n",
       "      <td>0.9855</td>\n",
       "      <td>0.931034</td>\n",
       "      <td>0.837209</td>\n",
       "      <td>0.881633</td>\n",
       "      <td>1.283576</td>\n",
       "      <td>0.017942</td>\n",
       "    </tr>\n",
       "    <tr>\n",
       "      <th>Regression Linéaire</th>\n",
       "      <td>0.9825</td>\n",
       "      <td>0.989583</td>\n",
       "      <td>0.736434</td>\n",
       "      <td>0.844444</td>\n",
       "      <td>0.579448</td>\n",
       "      <td>0.008976</td>\n",
       "    </tr>\n",
       "    <tr>\n",
       "      <th>SVM</th>\n",
       "      <td>0.9810</td>\n",
       "      <td>0.989247</td>\n",
       "      <td>0.713178</td>\n",
       "      <td>0.828829</td>\n",
       "      <td>20.317785</td>\n",
       "      <td>3.818783</td>\n",
       "    </tr>\n",
       "    <tr>\n",
       "      <th>KNN</th>\n",
       "      <td>0.9660</td>\n",
       "      <td>0.942029</td>\n",
       "      <td>0.503876</td>\n",
       "      <td>0.656566</td>\n",
       "      <td>4.895933</td>\n",
       "      <td>42.652927</td>\n",
       "    </tr>\n",
       "  </tbody>\n",
       "</table>\n",
       "</div>"
      ],
      "text/plain": [
       "                       accuracy  precision    recall  f1-score  \\\n",
       "Regression Logistique    0.9855   0.931034  0.837209  0.881633   \n",
       "Regression Linéaire      0.9825   0.989583  0.736434  0.844444   \n",
       "SVM                      0.9810   0.989247  0.713178  0.828829   \n",
       "KNN                      0.9660   0.942029  0.503876  0.656566   \n",
       "\n",
       "                       temps train (s)  temps inference (s)  \n",
       "Regression Logistique         1.283576             0.017942  \n",
       "Regression Linéaire           0.579448             0.008976  \n",
       "SVM                          20.317785             3.818783  \n",
       "KNN                           4.895933            42.652927  "
      ]
     },
     "execution_count": 17,
     "metadata": {},
     "output_type": "execute_result"
    }
   ],
   "source": [
    "df=compare_algo(liste_classifieurs,X_train, Y_train, X_test_a, Y_test_a)\n",
    "df"
   ]
  },
  {
   "cell_type": "code",
   "execution_count": 18,
   "metadata": {},
   "outputs": [
    {
     "name": "stdout",
     "output_type": "stream",
     "text": [
      "\\begin{tabular}{lrrrrrr}\n",
      "\\toprule\n",
      "{} &  accuracy &  precision &    recall &  f1-score &  temps train (s) &  temps inference (s) \\\\\n",
      "\\midrule\n",
      "Regression Logistique &    0.9855 &   0.931034 &  0.837209 &  0.881633 &         1.283576 &             0.017942 \\\\\n",
      "Regression Linéaire   &    0.9825 &   0.989583 &  0.736434 &  0.844444 &         0.579448 &             0.008976 \\\\\n",
      "SVM                   &    0.9810 &   0.989247 &  0.713178 &  0.828829 &        20.317785 &             3.818783 \\\\\n",
      "KNN                   &    0.9660 &   0.942029 &  0.503876 &  0.656566 &         4.895933 &            42.652927 \\\\\n",
      "\\bottomrule\n",
      "\\end{tabular}\n",
      "\n"
     ]
    }
   ],
   "source": [
    "print(df.to_latex(index=True)) "
   ]
  },
  {
   "cell_type": "markdown",
   "metadata": {},
   "source": [
    "## Comparaison sur le test B :"
   ]
  },
  {
   "cell_type": "code",
   "execution_count": 13,
   "metadata": {},
   "outputs": [
    {
     "data": {
      "text/html": [
       "<div>\n",
       "<style scoped>\n",
       "    .dataframe tbody tr th:only-of-type {\n",
       "        vertical-align: middle;\n",
       "    }\n",
       "\n",
       "    .dataframe tbody tr th {\n",
       "        vertical-align: top;\n",
       "    }\n",
       "\n",
       "    .dataframe thead th {\n",
       "        text-align: right;\n",
       "    }\n",
       "</style>\n",
       "<table border=\"1\" class=\"dataframe\">\n",
       "  <thead>\n",
       "    <tr style=\"text-align: right;\">\n",
       "      <th></th>\n",
       "      <th>accuracy</th>\n",
       "      <th>precision</th>\n",
       "      <th>recall</th>\n",
       "      <th>f1-score</th>\n",
       "      <th>temps train (s)</th>\n",
       "      <th>temps inference (s)</th>\n",
       "    </tr>\n",
       "  </thead>\n",
       "  <tbody>\n",
       "    <tr>\n",
       "      <th>Regression Logistique</th>\n",
       "      <td>0.9780</td>\n",
       "      <td>0.877193</td>\n",
       "      <td>0.769231</td>\n",
       "      <td>0.819672</td>\n",
       "      <td>1.219736</td>\n",
       "      <td>0.010971</td>\n",
       "    </tr>\n",
       "    <tr>\n",
       "      <th>Regression Linéaire</th>\n",
       "      <td>0.9815</td>\n",
       "      <td>0.979381</td>\n",
       "      <td>0.730769</td>\n",
       "      <td>0.837004</td>\n",
       "      <td>0.496671</td>\n",
       "      <td>0.008976</td>\n",
       "    </tr>\n",
       "    <tr>\n",
       "      <th>SVM</th>\n",
       "      <td>0.9795</td>\n",
       "      <td>0.968421</td>\n",
       "      <td>0.707692</td>\n",
       "      <td>0.817778</td>\n",
       "      <td>19.908758</td>\n",
       "      <td>4.040193</td>\n",
       "    </tr>\n",
       "    <tr>\n",
       "      <th>KNN</th>\n",
       "      <td>0.9615</td>\n",
       "      <td>0.934426</td>\n",
       "      <td>0.438462</td>\n",
       "      <td>0.596859</td>\n",
       "      <td>5.211063</td>\n",
       "      <td>40.384995</td>\n",
       "    </tr>\n",
       "  </tbody>\n",
       "</table>\n",
       "</div>"
      ],
      "text/plain": [
       "                       accuracy  precision    recall  f1-score  \\\n",
       "Regression Logistique    0.9780   0.877193  0.769231  0.819672   \n",
       "Regression Linéaire      0.9815   0.979381  0.730769  0.837004   \n",
       "SVM                      0.9795   0.968421  0.707692  0.817778   \n",
       "KNN                      0.9615   0.934426  0.438462  0.596859   \n",
       "\n",
       "                       temps train (s)  temps inference (s)  \n",
       "Regression Logistique         1.219736             0.010971  \n",
       "Regression Linéaire           0.496671             0.008976  \n",
       "SVM                          19.908758             4.040193  \n",
       "KNN                           5.211063            40.384995  "
      ]
     },
     "execution_count": 13,
     "metadata": {},
     "output_type": "execute_result"
    }
   ],
   "source": [
    "df=compare_algo(liste_classifieurs,X_train, Y_train, X_test_b, Y_test_b)\n",
    "df"
   ]
  },
  {
   "cell_type": "markdown",
   "metadata": {},
   "source": [
    "Au vu des résultats, les régressions logistique et linéaire sont les classifieurs qui donnent les meilleurs résultats. Nous allons les étudier plus précisément et les départager dans la partie suivante."
   ]
  },
  {
   "cell_type": "markdown",
   "metadata": {},
   "source": [
    "# Etude plus poussée des régressions logistique et linéaire :"
   ]
  },
  {
   "cell_type": "code",
   "execution_count": 19,
   "metadata": {},
   "outputs": [],
   "source": [
    "log = LogisticRegression(solver='lbfgs',random_state=0).fit(X_train , Y_train)\n",
    "lin=sklearn.linear_model.RidgeClassifier(alpha=1.0, fit_intercept=True, random_state=0).fit(X_train,Y_train)"
   ]
  },
  {
   "cell_type": "markdown",
   "metadata": {},
   "source": [
    "### Matrices de confusion :"
   ]
  },
  {
   "cell_type": "code",
   "execution_count": 20,
   "metadata": {},
   "outputs": [],
   "source": [
    "Y_pred_log_a=log.predict(X_test_a)\n",
    "Y_pred_log_b=log.predict(X_test_b)\n",
    "Y_pred_lin_a=lin.predict(X_test_a)\n",
    "Y_pred_lin_b=lin.predict(X_test_b)"
   ]
  },
  {
   "cell_type": "code",
   "execution_count": 21,
   "metadata": {},
   "outputs": [],
   "source": [
    "def print_confusion(matrice):\n",
    "    df=pd.DataFrame(matrice, index = ['classe negative', 'classe positive'],\n",
    "                    columns = ['prédit negatif', 'prédit positif'])\n",
    "    print(df,\"\\n\")"
   ]
  },
  {
   "cell_type": "code",
   "execution_count": 76,
   "metadata": {},
   "outputs": [
    {
     "name": "stdout",
     "output_type": "stream",
     "text": [
      "TEST A : \n",
      "\n",
      "Regression logistique : \n",
      "\n",
      "                 prédit negatif  prédit positif\n",
      "classe negative            1863               8\n",
      "classe positive              21             108 \n",
      "\n",
      "Regression linéaire : \n",
      "\n",
      "                 prédit negatif  prédit positif\n",
      "classe negative            1870               1\n",
      "classe positive              34              95 \n",
      "\n",
      "---------------------------------------- \n",
      "\n",
      "\n",
      "TEST B : \n",
      "\n",
      "Regression logistique : \n",
      "\n",
      "                 prédit negatif  prédit positif\n",
      "classe negative            1856              14\n",
      "classe positive              30             100 \n",
      "\n",
      "Regression linéaire : \n",
      "\n",
      "                 prédit negatif  prédit positif\n",
      "classe negative            1868               2\n",
      "classe positive              35              95 \n",
      "\n"
     ]
    }
   ],
   "source": [
    "print(\"TEST A : \\n\")\n",
    "print(\"Regression logistique : \\n\")\n",
    "print_confusion(confusion_matrix(Y_test_a,Y_pred_log_a))\n",
    "print(\"Regression linéaire : \\n\")\n",
    "print_confusion(confusion_matrix(Y_test_a,Y_pred_lin_a))\n",
    "print('--'*20,'\\n\\n')\n",
    "print(\"TEST B : \\n\")\n",
    "print(\"Regression logistique : \\n\")\n",
    "print_confusion(confusion_matrix(Y_test_b,Y_pred_log_b))\n",
    "print(\"Regression linéaire : \\n\")\n",
    "print_confusion(confusion_matrix(Y_test_b,Y_pred_lin_b))"
   ]
  },
  {
   "cell_type": "markdown",
   "metadata": {},
   "source": [
    "Il faut alors comprendre ce qui est le plus important. Pour nous, le pire serait d'avoir un problème avec la justice d'un pays car nous n'avons pas anonimisé un nom. C'est donc la case \"Faux négatif\" qu'il faut minimiser, et pour cela, la regression logistique est meilleure. C'est donc elle que nous implémenterons en C++. \n",
    "De plus, nous traçons ci-après la courbe ROC de cette regression logistique."
   ]
  },
  {
   "cell_type": "markdown",
   "metadata": {},
   "source": [
    "### Courbe ROC :"
   ]
  },
  {
   "cell_type": "code",
   "execution_count": 77,
   "metadata": {},
   "outputs": [],
   "source": [
    "Y_score_a =log.decision_function(X_test_a)"
   ]
  },
  {
   "cell_type": "code",
   "execution_count": 78,
   "metadata": {},
   "outputs": [],
   "source": [
    "fpr, tpr, _ = roc_curve(Y_test_a, Y_score_a)\n",
    "roc_auc = auc(fpr, tpr)"
   ]
  },
  {
   "cell_type": "code",
   "execution_count": 83,
   "metadata": {},
   "outputs": [
    {
     "data": {
      "image/png": "[encoded data removed]",
      "text/plain": [
       "<Figure size 432x288 with 1 Axes>"
      ]
     },
     "metadata": {
      "needs_background": "light"
     },
     "output_type": "display_data"
    }
   ],
   "source": [
    "plt.figure()\n",
    "plt.plot(fpr, tpr, color='red', label='aire sous la courbe = %0.2f' % roc_auc)\n",
    "plt.plot([0, 1], [0, 1], color='navy', linestyle='--')\n",
    "plt.xlim([-0.05, 1.05])\n",
    "plt.ylim([-0.05, 1.05])\n",
    "plt.xlabel('Taux de fausse alarme')\n",
    "plt.ylabel('Taux de detection')\n",
    "plt.title('Courbe ROC test A')\n",
    "plt.legend(loc=\"lower right\")\n",
    "plt.show()"
   ]
  }
 ],
 "metadata": {
  "kernelspec": {
   "display_name": "Python 3",
   "language": "python",
   "name": "python3"
  },
  "language_info": {
   "codemirror_mode": {
    "name": "ipython",
    "version": 3
   },
   "file_extension": ".py",
   "mimetype": "text/x-python",
   "name": "python",
   "nbconvert_exporter": "python",
   "pygments_lexer": "ipython3",
   "version": "3.7.6"
  }
 },
 "nbformat": 4,
 "nbformat_minor": 4
}
